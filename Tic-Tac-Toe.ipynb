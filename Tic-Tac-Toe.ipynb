{
 "cells": [
  {
   "cell_type": "code",
   "execution_count": 1,
   "id": "29ec6513",
   "metadata": {},
   "outputs": [],
   "source": [
    "def user_choice():\n",
    "    choice='wrong'\n",
    "    within_range=False\n",
    "    acceptable_range=range(0,10)\n",
    "    while choice.isdigit()==False or within_range==False:\n",
    "        choice= input(\"Enter the number between {0-10}\")\n",
    "        if choice.isdigit()==True:\n",
    "            if int(choice) in acceptable_range:\n",
    "                within_range=True\n",
    "            else:\n",
    "                within_range=False\n",
    "        if choice.isdigit()==False:\n",
    "            print(\"your choice is not a digit\")\n",
    "    return int(choice)"
   ]
  },
  {
   "cell_type": "code",
   "execution_count": 2,
   "id": "d8df574d",
   "metadata": {},
   "outputs": [
    {
     "name": "stdout",
     "output_type": "stream",
     "text": [
      "Enter the number between {0-10}4\n"
     ]
    },
    {
     "data": {
      "text/plain": [
       "4"
      ]
     },
     "execution_count": 2,
     "metadata": {},
     "output_type": "execute_result"
    }
   ],
   "source": [
    "user_choice()"
   ]
  },
  {
   "cell_type": "code",
   "execution_count": 3,
   "id": "6279be7a",
   "metadata": {},
   "outputs": [],
   "source": [
    "game_list=[0,1,2]\n",
    "def display_game(game_list):\n",
    "    print(\"current game list is : \")\n",
    "    print(game_list)\n",
    "def position_choice():\n",
    "    choice = 'wrong'\n",
    "    while choice not in ['0','1','2']:\n",
    "        choice=input(\"enter the position from the above list\")\n",
    "        if choice not in ['0','1','2']:\n",
    "            print(\"Invalid choice\")\n",
    "    return int(choice)\n",
    "def replacement_choice(game_list,position):\n",
    "    user_replacement=input(\"enter value you want replace\")\n",
    "    game_list[position]=user_replacement\n",
    "    return game_list\n",
    "def gameon_choice():\n",
    "    choice = 'wrong'\n",
    "    while choice not in ['Y','N']:\n",
    "        choice=input(\"Keep playing on? Y or N \")\n",
    "        if choice not in ['Y','N']:\n",
    "            print(\"Invalid choice\")\n",
    "    if choice =='Y':\n",
    "        game_list=[0,1,2]\n",
    "        display_game(game_list)\n",
    "        position=position_choice()\n",
    "        game_list=replacement_choice(game_list,position)\n",
    "        display_game(game_list)\n",
    "    else:\n",
    "        print(\"Game Over\")\n",
    "        \n",
    "        \n",
    "    \n",
    "\n"
   ]
  },
  {
   "cell_type": "code",
   "execution_count": 4,
   "id": "4b6528af",
   "metadata": {},
   "outputs": [
    {
     "name": "stdout",
     "output_type": "stream",
     "text": [
      "Keep playing on? Y or N Y\n",
      "current game list is : \n",
      "[0, 1, 2]\n",
      "enter the position from the above list0\n",
      "enter value you want replaceO\n",
      "current game list is : \n",
      "['O', 1, 2]\n"
     ]
    }
   ],
   "source": [
    "gameon_choice()"
   ]
  },
  {
   "cell_type": "code",
   "execution_count": 5,
   "id": "7b7c6798",
   "metadata": {},
   "outputs": [],
   "source": [
    "from IPython.display import clear_output\n",
    "def display_board(board):\n",
    "    clear_output()\n",
    "    print('   |   |')\n",
    "    print(' '+board[7]+' | '+ board[8]+' | '+board[9])\n",
    "    print('   |   |') \n",
    "    print('----------')\n",
    "    print(' '+board[4]+' | '+ board[5]+' | '+board[6])\n",
    "    print('   |   |')\n",
    "    print('----------')    \n",
    "    print(' '+board[1]+' | '+ board[2]+' | '+board[3])\n",
    "    print('   |   |')\n",
    "\n",
    "    "
   ]
  },
  {
   "cell_type": "code",
   "execution_count": 6,
   "id": "5e95cbf8",
   "metadata": {},
   "outputs": [
    {
     "name": "stdout",
     "output_type": "stream",
     "text": [
      "   |   |\n",
      " O | X | O\n",
      "   |   |\n",
      "----------\n",
      " X | O | X\n",
      "   |   |\n",
      "----------\n",
      " O | X | O\n",
      "   |   |\n"
     ]
    }
   ],
   "source": [
    "test_board = ['#','O','X','O','X','O','X','O','X','O']\n",
    "display_board(test_board)\n",
    "display_board(test_board)"
   ]
  },
  {
   "cell_type": "code",
   "execution_count": 7,
   "id": "813a7a4a",
   "metadata": {},
   "outputs": [],
   "source": [
    "def player_input():\n",
    "    marker = ' '\n",
    "    while not(marker=='X'or marker=='O'):\n",
    "        marker=input(\"Player1 : Choose X or O \").upper()\n",
    "    if(marker=='X'):\n",
    "        return ('X','O')\n",
    "    else:\n",
    "        return ('O','X')\n",
    "        "
   ]
  },
  {
   "cell_type": "code",
   "execution_count": 8,
   "id": "638dcebc",
   "metadata": {},
   "outputs": [
    {
     "name": "stdout",
     "output_type": "stream",
     "text": [
      "Player1 : Choose X or O X\n"
     ]
    }
   ],
   "source": [
    "player1_marker,player2_marker=player_input()"
   ]
  },
  {
   "cell_type": "code",
   "execution_count": 9,
   "id": "9be10f32",
   "metadata": {},
   "outputs": [
    {
     "data": {
      "text/plain": [
       "'O'"
      ]
     },
     "execution_count": 9,
     "metadata": {},
     "output_type": "execute_result"
    }
   ],
   "source": [
    "player2_marker"
   ]
  },
  {
   "cell_type": "code",
   "execution_count": 10,
   "id": "f9f848e6",
   "metadata": {},
   "outputs": [],
   "source": [
    "def place_marker(board,marker,position):\n",
    "    board[position]=marker\n",
    "        "
   ]
  },
  {
   "cell_type": "code",
   "execution_count": 11,
   "id": "1fa17e30",
   "metadata": {},
   "outputs": [],
   "source": [
    "place_marker(test_board,'X',3)"
   ]
  },
  {
   "cell_type": "code",
   "execution_count": 12,
   "id": "f4e7bd60",
   "metadata": {},
   "outputs": [
    {
     "name": "stdout",
     "output_type": "stream",
     "text": [
      "   |   |\n",
      " O | X | O\n",
      "   |   |\n",
      "----------\n",
      " X | O | X\n",
      "   |   |\n",
      "----------\n",
      " O | X | X\n",
      "   |   |\n"
     ]
    }
   ],
   "source": [
    "display_board(test_board)"
   ]
  },
  {
   "cell_type": "code",
   "execution_count": 13,
   "id": "d7886cb0",
   "metadata": {},
   "outputs": [],
   "source": [
    "def win_check(board,mark):\n",
    "    \n",
    "    return((board[1]==board[2]==board[3]==mark)or\n",
    "    (board[4]==board[5]==board[6]==mark)or\n",
    "    (board[7]==board[8]==board[9]==mark)or\n",
    "    (board[1]==board[4]==board[7]==mark)or\n",
    "    (board[2]==board[5]==board[8]==mark)or\n",
    "    (board[3]==board[6]==board[9]==mark)or\n",
    "    (board[1]==board[5]==board[9]==mark)or\n",
    "    (board[7]==board[5]==board[3]==mark))\n",
    "        "
   ]
  },
  {
   "cell_type": "code",
   "execution_count": 14,
   "id": "5c7988d7",
   "metadata": {},
   "outputs": [
    {
     "data": {
      "text/plain": [
       "False"
      ]
     },
     "execution_count": 14,
     "metadata": {},
     "output_type": "execute_result"
    }
   ],
   "source": [
    "win_check(test_board,'X')"
   ]
  },
  {
   "cell_type": "code",
   "execution_count": 15,
   "id": "29ac2917",
   "metadata": {},
   "outputs": [],
   "source": [
    "import random\n",
    "def choose_first():\n",
    "    flip=random.randint(0,1)\n",
    "    if flip==0:\n",
    "        return 'Player1'\n",
    "    else:\n",
    "        return 'Player2'"
   ]
  },
  {
   "cell_type": "code",
   "execution_count": 16,
   "id": "3d93516f",
   "metadata": {},
   "outputs": [
    {
     "data": {
      "text/plain": [
       "'Player1'"
      ]
     },
     "execution_count": 16,
     "metadata": {},
     "output_type": "execute_result"
    }
   ],
   "source": [
    "choose_first()"
   ]
  },
  {
   "cell_type": "code",
   "execution_count": 17,
   "id": "082a6de6",
   "metadata": {},
   "outputs": [],
   "source": [
    "def space_check(board,position):\n",
    "    return board[position]==' '"
   ]
  },
  {
   "cell_type": "code",
   "execution_count": 18,
   "id": "a71d4c79",
   "metadata": {},
   "outputs": [
    {
     "data": {
      "text/plain": [
       "False"
      ]
     },
     "execution_count": 18,
     "metadata": {},
     "output_type": "execute_result"
    }
   ],
   "source": [
    "space_check(test_board,1)"
   ]
  },
  {
   "cell_type": "code",
   "execution_count": 19,
   "id": "8d20be64",
   "metadata": {},
   "outputs": [],
   "source": [
    "def full_board_check(board):\n",
    "    for i in range(1,10):\n",
    "        if board[i]!=' ':\n",
    "            return True\n",
    "        else:\n",
    "            return False"
   ]
  },
  {
   "cell_type": "code",
   "execution_count": 20,
   "id": "1b559a1a",
   "metadata": {},
   "outputs": [
    {
     "data": {
      "text/plain": [
       "True"
      ]
     },
     "execution_count": 20,
     "metadata": {},
     "output_type": "execute_result"
    }
   ],
   "source": [
    "full_board_check(test_board)"
   ]
  },
  {
   "cell_type": "code",
   "execution_count": 21,
   "id": "31b663f7",
   "metadata": {},
   "outputs": [],
   "source": [
    "def player_choice(borad):\n",
    "    postion=0\n",
    "    while position not in range(1,10) or space_check(board,position==False):\n",
    "        positon=int(input(\"Choose a position: (1-9) \"))\n",
    "    return position"
   ]
  },
  {
   "cell_type": "code",
   "execution_count": 22,
   "id": "d98b1f97",
   "metadata": {},
   "outputs": [],
   "source": [
    "def replay():\n",
    "    choice = input(\"play again : Y or n\")\n",
    "    return choice == 'Y'"
   ]
  },
  {
   "cell_type": "code",
   "execution_count": null,
   "id": "5666cf5b",
   "metadata": {},
   "outputs": [],
   "source": [
    "print(\"Welcome to tic toe game\")\n",
    "while True:\n",
    "    TT_board=[' ']*10\n",
    "    player1,Player2=player_input()\n",
    "    turn = choose_first()\n",
    "    print(turn +' will go first ')\n",
    "    play_game = input(\"Ready to play? : Y or n\")\n",
    "    if play_game=='Y':\n",
    "        game_on = True\n",
    "    else:\n",
    "        game_on = False\n",
    "    while game_on:\n",
    "        if turn =='Player1':\n",
    "            display_board(TT_board)\n",
    "            position = player_choice(TT_board)\n",
    "            place_marker(TT_board,marker,position)\n",
    "            \n",
    "        \n",
    "            \n",
    "    if not replay():\n",
    "        break\n",
    "    "
   ]
  },
  {
   "cell_type": "code",
   "execution_count": null,
   "id": "d86ac5d9",
   "metadata": {},
   "outputs": [],
   "source": []
  }
 ],
 "metadata": {
  "kernelspec": {
   "display_name": "Python 3 (ipykernel)",
   "language": "python",
   "name": "python3"
  },
  "language_info": {
   "codemirror_mode": {
    "name": "ipython",
    "version": 3
   },
   "file_extension": ".py",
   "mimetype": "text/x-python",
   "name": "python",
   "nbconvert_exporter": "python",
   "pygments_lexer": "ipython3",
   "version": "3.9.12"
  }
 },
 "nbformat": 4,
 "nbformat_minor": 5
}
